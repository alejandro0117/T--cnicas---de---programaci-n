{
  "nbformat": 4,
  "nbformat_minor": 0,
  "metadata": {
    "colab": {
      "provenance": [],
      "authorship_tag": "ABX9TyMbY/Oh6xKTr5rkdbJS2nBf",
      "include_colab_link": true
    },
    "kernelspec": {
      "name": "python3",
      "display_name": "Python 3"
    },
    "language_info": {
      "name": "python"
    }
  },
  "cells": [
    {
      "cell_type": "markdown",
      "metadata": {
        "id": "view-in-github",
        "colab_type": "text"
      },
      "source": [
        "<a href=\"https://colab.research.google.com/github/alejandro0117/T--cnicas---de---programaci-n/blob/main/Ejercicio1.ipynb\" target=\"_parent\"><img src=\"https://colab.research.google.com/assets/colab-badge.svg\" alt=\"Open In Colab\"/></a>"
      ]
    },
    {
      "cell_type": "code",
      "execution_count": null,
      "metadata": {
        "id": "Bxe_AfIZiulc"
      },
      "outputs": [],
      "source": [
        "# Objetivo: Area de un rectangulo\n",
        "# Nombre: LAZO VILLODAS, ALEJANDRO\n",
        "# Fecha: 30/04/1996\n",
        "# ENTRADA\n",
        "base=float(input(\"Ingrese la base: \"))\n",
        "altura=float(input(\"INgrese la altura: \"))\n",
        "# PROCESO\n",
        "Calcular = base * altura\n",
        "# SALIDA\n",
        "print(\"El area del rectangulo con los datos ingresados es: \", Calcular)"
      ]
    },
    {
      "cell_type": "code",
      "source": [
        "# Objetivo: VOLUMEN DE UN CUBO\n",
        "# Nombre: LAZO VILLODAS, ALEJANDRO\n",
        "# Fecha: 30/04/1996\n",
        "# ENTRADA\n",
        "LADO=int(input(\"Ingrese el lado:\"))\n",
        "# PROCESO\n",
        "Calcular = LADO ** 3\n",
        "# SALIDA\n",
        "print(\"Ek Volumen con los datos ingresados es: \", Calcular)"
      ],
      "metadata": {
        "colab": {
          "base_uri": "https://localhost:8080/"
        },
        "id": "Zmco1Nv3l8YJ",
        "outputId": "92dcefaa-4c54-4be4-a3db-177e8fadc67f"
      },
      "execution_count": 7,
      "outputs": [
        {
          "output_type": "stream",
          "name": "stdout",
          "text": [
            "Ingrese el lado:4\n",
            "Ek Volumen con los datos ingresados es:  64\n"
          ]
        }
      ]
    },
    {
      "cell_type": "code",
      "source": [
        "# Objetivo: PROYECTO\n",
        "# Nombre: LAZO VILLODAS, ALEJANDRO\n",
        "# Fecha: 30/04/1996\n",
        "\n",
        "# ENTRADA\n",
        "ingreso = float(input(\"Digite el ingreso:\"))\n",
        "descuento = float(input(\"Digite el descuento\"))\n",
        "diasNoLaborados = int(input(\"Digite el cantidad días no laborados:\"))\n",
        "\n",
        "# PROCESO\n",
        "diasLaborados = 30 - diasNoLaborados\n",
        "pago_por_dias = ingreso / 30\n",
        "netoPagar = pago_por_dias * diasLaborados - descuento\n",
        "descuento = pago_por_dias * diasNoLaborados\n",
        "\n",
        "# SALIDA\n",
        "print(\"El neto a pagar es: \", netoPagar)\n",
        "\n"
      ],
      "metadata": {
        "colab": {
          "base_uri": "https://localhost:8080/"
        },
        "id": "u8QPF1SepZmG",
        "outputId": "02353527-abb4-4694-d676-3ece758a1f0c"
      },
      "execution_count": 26,
      "outputs": [
        {
          "output_type": "stream",
          "name": "stdout",
          "text": [
            "Digite el ingreso:900\n",
            "Digite el descuento5\n",
            "Digite el cantidad días no laborados:5\n",
            "El neto a pagar es:  745.0\n"
          ]
        }
      ]
    }
  ]
}